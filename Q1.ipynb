{
 "cells": [
  {
   "cell_type": "code",
   "execution_count": 1,
   "id": "c10739ae",
   "metadata": {
    "_cell_guid": "b1076dfc-b9ad-4769-8c92-a6c4dae69d19",
    "_uuid": "8f2839f25d086af736a60e9eeb907d3b93b6e0e5",
    "execution": {
     "iopub.execute_input": "2023-05-06T19:00:59.590647Z",
     "iopub.status.busy": "2023-05-06T19:00:59.590036Z",
     "iopub.status.idle": "2023-05-06T19:00:59.605989Z",
     "shell.execute_reply": "2023-05-06T19:00:59.603930Z"
    },
    "papermill": {
     "duration": 0.024126,
     "end_time": "2023-05-06T19:00:59.608464",
     "exception": false,
     "start_time": "2023-05-06T19:00:59.584338",
     "status": "completed"
    },
    "tags": []
   },
   "outputs": [
    {
     "name": "stdout",
     "output_type": "stream",
     "text": [
      "/kaggle/input/eng-hin/hin_valid.csv\n",
      "/kaggle/input/eng-hin/hin_test.csv\n",
      "/kaggle/input/eng-hin/hin_train.csv\n"
     ]
    }
   ],
   "source": [
    "# This Python 3 environment comes with many helpful analytics libraries installed\n",
    "# It is defined by the kaggle/python Docker image: https://github.com/kaggle/docker-python\n",
    "# For example, here's several helpful packages to load\n",
    "\n",
    "import numpy as np # linear algebra\n",
    "import pandas as pd # data processing, CSV file I/O (e.g. pd.read_csv)\n",
    "\n",
    "# Input data files are available in the read-only \"../input/\" directory\n",
    "# For example, running this (by clicking run or pressing Shift+Enter) will list all files under the input directory\n",
    "\n",
    "import os\n",
    "for dirname, _, filenames in os.walk('/kaggle/input'):\n",
    "    for filename in filenames:\n",
    "        print(os.path.join(dirname, filename))\n",
    "\n",
    "# You can write up to 20GB to the current directory (/kaggle/working/) that gets preserved as output when you create a version using \"Save & Run All\" \n",
    "# You can also write temporary files to /kaggle/temp/, but they won't be saved outside of the current session"
   ]
  },
  {
   "cell_type": "code",
   "execution_count": 2,
   "id": "0341c5e2",
   "metadata": {
    "execution": {
     "iopub.execute_input": "2023-05-06T19:00:59.617357Z",
     "iopub.status.busy": "2023-05-06T19:00:59.616721Z",
     "iopub.status.idle": "2023-05-06T19:01:03.224816Z",
     "shell.execute_reply": "2023-05-06T19:01:03.223801Z"
    },
    "papermill": {
     "duration": 3.615133,
     "end_time": "2023-05-06T19:01:03.227389",
     "exception": false,
     "start_time": "2023-05-06T19:00:59.612256",
     "status": "completed"
    },
    "tags": []
   },
   "outputs": [],
   "source": [
    "# import cell\n",
    "import torch\n",
    "from torch.nn.utils.rnn import pad_sequence"
   ]
  },
  {
   "cell_type": "code",
   "execution_count": 3,
   "id": "97b7d8a2",
   "metadata": {
    "execution": {
     "iopub.execute_input": "2023-05-06T19:01:03.235623Z",
     "iopub.status.busy": "2023-05-06T19:01:03.235070Z",
     "iopub.status.idle": "2023-05-06T19:01:03.243924Z",
     "shell.execute_reply": "2023-05-06T19:01:03.242917Z"
    },
    "papermill": {
     "duration": 0.015247,
     "end_time": "2023-05-06T19:01:03.246074",
     "exception": false,
     "start_time": "2023-05-06T19:01:03.230827",
     "status": "completed"
    },
    "tags": []
   },
   "outputs": [],
   "source": [
    "SOS_token = \"SOS\"\n",
    "EOS_token = \"EOS\"\n",
    "PAD_token = \"PAD\"\n",
    "UNK_token = \"UNK\"\n",
    "\n",
    "SOS_idx = 0\n",
    "EOS_idx = 1\n",
    "PAD_idx = 2\n",
    "UNK_idx = 3\n",
    "\n",
    "class Script:\n",
    "    def __init__(self, name):\n",
    "        self.name = name\n",
    "        self.char2index = {SOS_token: SOS_idx, EOS_token: EOS_idx, PAD_token: PAD_idx, UNK_token: UNK_idx}\n",
    "        self.char2count = {}\n",
    "        self.index2char = {SOS_idx: SOS_token, EOS_idx: EOS_token, PAD_idx: PAD_token, UNK_idx: UNK_token}\n",
    "        self.n_chars = 4  # Count SOS, EOS, PAD and UNK\n",
    "\n",
    "    def addWord(self, word):\n",
    "        for char in word:\n",
    "            self.addChar(char)\n",
    "\n",
    "    def addChar(self, char):\n",
    "        if char not in self.char2index:\n",
    "            self.char2index[char] = self.n_chars\n",
    "            self.char2count[char] = 1\n",
    "            self.index2char[self.n_chars] = char\n",
    "            self.n_chars += 1\n",
    "        else:\n",
    "            self.char2count[char] += 1"
   ]
  },
  {
   "cell_type": "code",
   "execution_count": 4,
   "id": "99a8fdaa",
   "metadata": {
    "execution": {
     "iopub.execute_input": "2023-05-06T19:01:03.254007Z",
     "iopub.status.busy": "2023-05-06T19:01:03.253701Z",
     "iopub.status.idle": "2023-05-06T19:01:03.258780Z",
     "shell.execute_reply": "2023-05-06T19:01:03.257710Z"
    },
    "papermill": {
     "duration": 0.011532,
     "end_time": "2023-05-06T19:01:03.260821",
     "exception": false,
     "start_time": "2023-05-06T19:01:03.249289",
     "status": "completed"
    },
    "tags": []
   },
   "outputs": [],
   "source": [
    "def prepareVocab(data, in_scr=\"lat\", out_scr=\"dev\"):\n",
    "    input_vocab = Script(in_scr)\n",
    "    output_vocab = Script(out_scr)\n",
    "    \n",
    "    for pair in data.values:\n",
    "        input_vocab.addWord(pair[0])\n",
    "        output_vocab.addWord(pair[1])\n",
    "    \n",
    "    return input_vocab, output_vocab"
   ]
  },
  {
   "cell_type": "code",
   "execution_count": 5,
   "id": "b892b0b5",
   "metadata": {
    "execution": {
     "iopub.execute_input": "2023-05-06T19:01:03.268825Z",
     "iopub.status.busy": "2023-05-06T19:01:03.268464Z",
     "iopub.status.idle": "2023-05-06T19:01:03.274585Z",
     "shell.execute_reply": "2023-05-06T19:01:03.273897Z"
    },
    "papermill": {
     "duration": 0.01229,
     "end_time": "2023-05-06T19:01:03.276403",
     "exception": false,
     "start_time": "2023-05-06T19:01:03.264113",
     "status": "completed"
    },
    "tags": []
   },
   "outputs": [],
   "source": [
    "def tensorFromWord(vocab, word, sos=True, eos=True):\n",
    "    char_list = []\n",
    "    if sos:\n",
    "        char_list.append(vocab.char2index[SOS_token])\n",
    "    for char in word:\n",
    "        if char in vocab.char2index:\n",
    "            char_list.append(vocab.char2index[char])\n",
    "        else:\n",
    "            char_list.append(vocab.char2index[UNK_token])\n",
    "    if eos:\n",
    "        char_list.append(vocab.char2index[EOS_token])\n",
    "    char_tensor = torch.tensor(char_list, dtype=torch.int)\n",
    "    return char_tensor"
   ]
  },
  {
   "cell_type": "code",
   "execution_count": 6,
   "id": "38c3bc92",
   "metadata": {
    "execution": {
     "iopub.execute_input": "2023-05-06T19:01:03.284300Z",
     "iopub.status.busy": "2023-05-06T19:01:03.283830Z",
     "iopub.status.idle": "2023-05-06T19:01:03.289334Z",
     "shell.execute_reply": "2023-05-06T19:01:03.288323Z"
    },
    "papermill": {
     "duration": 0.011749,
     "end_time": "2023-05-06T19:01:03.291396",
     "exception": false,
     "start_time": "2023-05-06T19:01:03.279647",
     "status": "completed"
    },
    "tags": []
   },
   "outputs": [],
   "source": [
    "def processData(data, in_vocab, out_vocab, sos=True, eos=True):\n",
    "    in_tensor_list = []\n",
    "    out_tensor_list = []\n",
    "    for pair in data.values:\n",
    "        input_tensor = tensorFromWord(in_vocab, pair[0], sos, eos)\n",
    "        output_tensor = tensorFromWord(out_vocab, pair[1], sos, eos)\n",
    "        in_tensor_list.append(input_tensor)\n",
    "        out_tensor_list.append(output_tensor)\n",
    "    in_tensor_pad = pad_sequence(in_tensor_list, padding_value=PAD_idx, batch_first=False)\n",
    "    out_tensor_pad = pad_sequence(out_tensor_list, padding_value=PAD_idx, batch_first=False)\n",
    "    return in_tensor_pad, out_tensor_pad"
   ]
  },
  {
   "cell_type": "code",
   "execution_count": 7,
   "id": "68fd7367",
   "metadata": {
    "execution": {
     "iopub.execute_input": "2023-05-06T19:01:03.299495Z",
     "iopub.status.busy": "2023-05-06T19:01:03.299158Z",
     "iopub.status.idle": "2023-05-06T19:01:03.453146Z",
     "shell.execute_reply": "2023-05-06T19:01:03.451855Z"
    },
    "papermill": {
     "duration": 0.161187,
     "end_time": "2023-05-06T19:01:03.455883",
     "exception": false,
     "start_time": "2023-05-06T19:01:03.294696",
     "status": "completed"
    },
    "tags": []
   },
   "outputs": [],
   "source": [
    "# load dataset\n",
    "train_data = pd.read_csv('/kaggle/input/eng-hin/hin_train.csv', sep=',', header=None)\n",
    "test_data = pd.read_csv('/kaggle/input/eng-hin/hin_test.csv', sep=',', header=None)\n",
    "valid_data = pd.read_csv('/kaggle/input/eng-hin/hin_valid.csv', sep=',', header=None)"
   ]
  },
  {
   "cell_type": "code",
   "execution_count": 8,
   "id": "9f3231e0",
   "metadata": {
    "execution": {
     "iopub.execute_input": "2023-05-06T19:01:03.464890Z",
     "iopub.status.busy": "2023-05-06T19:01:03.463714Z",
     "iopub.status.idle": "2023-05-06T19:01:03.791370Z",
     "shell.execute_reply": "2023-05-06T19:01:03.790263Z"
    },
    "papermill": {
     "duration": 0.334619,
     "end_time": "2023-05-06T19:01:03.793904",
     "exception": false,
     "start_time": "2023-05-06T19:01:03.459285",
     "status": "completed"
    },
    "tags": []
   },
   "outputs": [],
   "source": [
    "# build vocabulary\n",
    "x_vocab, y_vocab = prepareVocab(train_data)"
   ]
  },
  {
   "cell_type": "code",
   "execution_count": 9,
   "id": "3b04e483",
   "metadata": {
    "execution": {
     "iopub.execute_input": "2023-05-06T19:01:03.802594Z",
     "iopub.status.busy": "2023-05-06T19:01:03.802198Z",
     "iopub.status.idle": "2023-05-06T19:01:05.605632Z",
     "shell.execute_reply": "2023-05-06T19:01:05.604417Z"
    },
    "papermill": {
     "duration": 1.810415,
     "end_time": "2023-05-06T19:01:05.608202",
     "exception": false,
     "start_time": "2023-05-06T19:01:03.797787",
     "status": "completed"
    },
    "tags": []
   },
   "outputs": [],
   "source": [
    "x_train, y_train = processData(train_data, x_vocab, y_vocab)\n",
    "x_test, y_test = processData(test_data, x_vocab, y_vocab)\n",
    "x_valid, y_valid = processData(valid_data, x_vocab, y_vocab)"
   ]
  },
  {
   "cell_type": "code",
   "execution_count": 10,
   "id": "b44e2496",
   "metadata": {
    "execution": {
     "iopub.execute_input": "2023-05-06T19:01:05.617311Z",
     "iopub.status.busy": "2023-05-06T19:01:05.616424Z",
     "iopub.status.idle": "2023-05-06T19:01:05.623877Z",
     "shell.execute_reply": "2023-05-06T19:01:05.622832Z"
    },
    "papermill": {
     "duration": 0.014239,
     "end_time": "2023-05-06T19:01:05.626038",
     "exception": false,
     "start_time": "2023-05-06T19:01:05.611799",
     "status": "completed"
    },
    "tags": []
   },
   "outputs": [
    {
     "name": "stdout",
     "output_type": "stream",
     "text": [
      "torch.Size([26, 51200])\n",
      "torch.Size([28, 4096])\n",
      "torch.Size([24, 4096])\n"
     ]
    }
   ],
   "source": [
    "print(x_train.size())\n",
    "print(x_test.size())\n",
    "print(x_valid.size())"
   ]
  },
  {
   "cell_type": "code",
   "execution_count": 11,
   "id": "c3882849",
   "metadata": {
    "execution": {
     "iopub.execute_input": "2023-05-06T19:01:05.634132Z",
     "iopub.status.busy": "2023-05-06T19:01:05.633817Z",
     "iopub.status.idle": "2023-05-06T19:01:05.638857Z",
     "shell.execute_reply": "2023-05-06T19:01:05.637845Z"
    },
    "papermill": {
     "duration": 0.012529,
     "end_time": "2023-05-06T19:01:05.641923",
     "exception": false,
     "start_time": "2023-05-06T19:01:05.629394",
     "status": "completed"
    },
    "tags": []
   },
   "outputs": [
    {
     "name": "stdout",
     "output_type": "stream",
     "text": [
      "torch.Size([22, 51200])\n",
      "torch.Size([22, 4096])\n",
      "torch.Size([22, 4096])\n"
     ]
    }
   ],
   "source": [
    "print(y_train.size())\n",
    "print(y_test.size())\n",
    "print(y_valid.size())"
   ]
  }
 ],
 "metadata": {
  "kernelspec": {
   "display_name": "Python 3",
   "language": "python",
   "name": "python3"
  },
  "language_info": {
   "codemirror_mode": {
    "name": "ipython",
    "version": 3
   },
   "file_extension": ".py",
   "mimetype": "text/x-python",
   "name": "python",
   "nbconvert_exporter": "python",
   "pygments_lexer": "ipython3",
   "version": "3.10.10"
  },
  "papermill": {
   "default_parameters": {},
   "duration": 17.313864,
   "end_time": "2023-05-06T19:01:06.867361",
   "environment_variables": {},
   "exception": null,
   "input_path": "__notebook__.ipynb",
   "output_path": "__notebook__.ipynb",
   "parameters": {},
   "start_time": "2023-05-06T19:00:49.553497",
   "version": "2.4.0"
  }
 },
 "nbformat": 4,
 "nbformat_minor": 5
}
